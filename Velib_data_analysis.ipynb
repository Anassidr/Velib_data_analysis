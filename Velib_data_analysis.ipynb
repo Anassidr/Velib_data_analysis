{
 "cells": [
  {
   "cell_type": "code",
   "execution_count": 2,
   "metadata": {},
   "outputs": [],
   "source": [
    "import pandas as pd\n",
    "from csv import writer\n",
    "from pandas import DataFrame\n",
    "import matplotlib.pyplot as plt\n",
    "import seaborn as sns\n",
    "import numpy as np\n",
    "from scipy.stats import norm\n",
    "from sklearn.preprocessing import StandardScaler\n",
    "from sklearn.model_selection import train_test_split\n",
    "from scipy import stats\n",
    "import warnings\n",
    "warnings.filterwarnings('ignore')\n",
    "%matplotlib inline\n",
    "import re\n",
    "from selenium import webdriver\n",
    "from selenium.webdriver.common.keys import Keys\n",
    "from selenium.webdriver.common.by import By\n",
    "from selenium.webdriver.support.ui import WebDriverWait\n",
    "from selenium.webdriver.support import expected_conditions as EC \n",
    "import time\n",
    "from bs4 import BeautifulSoup\n",
    "import json\n",
    "from datetime import datetime\n"
   ]
  },
  {
   "cell_type": "code",
   "execution_count": null,
   "metadata": {},
   "outputs": [],
   "source": [
    "# SOMMAIRE\n",
    "# 1. Collecte de données - Webscraping\n",
    "# 2. Analyse exploratoire des données \n",
    "# 3. Transformation des données : Mise à l'échelle des variables etc\n",
    "# 4. Classification multi-classes - Machine Learning\n",
    "# 5. Deep learning "
   ]
  },
  {
   "cell_type": "code",
   "execution_count": 2,
   "metadata": {},
   "outputs": [],
   "source": [
    "from urllib import request\n",
    "\n",
    "# 1. Collecte de données - Webscraping\n",
    "\n",
    "def Collecte(Login, Password):\n",
    "\n",
    "    PATH = r\"C:\\Users\\anass.kamalidrissi\\Downloads\\chromedriver.exe\"\n",
    "\n",
    "    driver = webdriver.Chrome(PATH)\n",
    "\n",
    "    # Adresse du site à scrapper \n",
    "\n",
    "    driver.get(\"https://www.velib-metropole.fr/private/account#/my-runs\")\n",
    "    html = driver.page_source\n",
    "\n",
    "    soup2 = BeautifulSoup(html)\n",
    "\n",
    "    # On insère le login/mdp\n",
    "\n",
    "    inputElement = driver.find_element(By.CLASS_NAME, 'form-control')\n",
    "    inputElement.send_keys(Login)\n",
    "\n",
    "    inputElement = driver.find_element(By.NAME, '_password')\n",
    "    inputElement.send_keys(Password)\n",
    "\n",
    "    driver.implicitly_wait(10) \n",
    "\n",
    "    # On refuse tous les cookies\n",
    "\n",
    "    driver.find_element(By.XPATH,\"//span[@onclick='tarteaucitron.userInterface.respondAll(false);']\").click()\n",
    "    time.sleep(3)\n",
    "\n",
    "\n",
    "    # click sur recaptcha en passant sur iframe puis en quittant\n",
    "\n",
    "    WebDriverWait(driver, 10).until(EC.frame_to_be_available_and_switch_to_it((By.CSS_SELECTOR,\"iframe[name^='a-'][src^='https://www.google.com/recaptcha/api2/anchor?']\")))\n",
    "    WebDriverWait(driver, 10).until(EC.element_to_be_clickable((By.XPATH, \"//span[@id='recaptcha-anchor']\"))).click()\n",
    "    driver.switch_to.default_content()\n",
    "\n",
    "    # cliquer sur se connecter \n",
    "\n",
    "    time.sleep(3)\n",
    "    WebDriverWait(driver, 10).until(EC.element_to_be_clickable((By.CLASS_NAME, 'btn-smoove-valid'))).click()\n",
    "\n",
    "    # click sur voir mes trajets\n",
    "\n",
    "    time.sleep(3)\n",
    "    WebDriverWait(driver, 10).until(EC.element_to_be_clickable((By.CLASS_NAME, 'btn-smoove-valid'))).click()\n",
    "\n",
    "\n",
    "    # Il existe une webapi privée donc on l'exploite pour récupérer tous les trajets\n",
    "\n",
    "    driver.get(\"https://www.velib-metropole.fr/webapi/private/getCourseList?limit=10000&offset=0\")\n",
    "    JSON_api = driver.page_source\n",
    "\n",
    "    # driver.quit()\n",
    "    return JSON_api "
   ]
  },
  {
   "cell_type": "code",
   "execution_count": 7,
   "metadata": {},
   "outputs": [],
   "source": [
    "# On transforme le JSON en dictionnaire python\n",
    "def transf(JSON_api):\n",
    "    soup = BeautifulSoup(JSON_api).text\n",
    "    dict = json.loads(soup)\n",
    "    return dict  "
   ]
  },
  {
   "cell_type": "code",
   "execution_count": 8,
   "metadata": {},
   "outputs": [],
   "source": [
    "# On récupère les données du premier compte puis on fait pareil pour les autres comptes. \n",
    "JSON_api = Collecte('XXXXXXXXXX@gmail.com', 'Password')\n",
    "dict = transf(JSON_api)"
   ]
  },
  {
   "cell_type": "code",
   "execution_count": 9,
   "metadata": {},
   "outputs": [
    {
     "name": "stdout",
     "output_type": "stream",
     "text": [
      "{'code': '28_V1_CHARGE_USAGE', 'description': \"La charge d'usage\", 'userAccount': '99881589570100585', 'walletTemplate': 'PRINCIPAL', 'seller': 'VELIB', 'chargeInstance': '28_V1_CHARGE_USAGE', 'chargeInstanceId': 37099664, 'currency': 'EUR', 'status': 'TREATED', 'updated': 1664261223667, 'ratingUnitDescription': 'second', 'taxCode': 'TAX_HIGH', 'taxPercent': 20, 'unitAmountWithoutTax': 0, 'unitAmountWithTax': 0, 'unitAmountTax': 0, 'quantity': 740, 'amountWithoutTax': 0, 'amountWithTax': 0, 'amountTax': 0, 'parameter1': 'yes', 'parameter2': 'TRAJET_USAGE', 'parameter3': {'BIKEID': '34205', 'DISTANCE': '2678.0', 'usageId': '16717395868', 'departureStationId': '11218807773', 'arrivalStationId': '1057203651', 'BILLED_QUANTITY': '0.0', 'OVERCHARGING_QUANTITY': '0.0', 'USED_BONUS': '0.0', 'BONUS_EARNED': '0.0', 'LEFT_BONUS': '15.0', 'SAVED_CARBON_DIOXIDE': 297.3, 'AVERAGE_SPEED': 13}, 'startDate': 1664260469000, 'endDate': 1664261213000, 'operationDate': 1664260469000, 'subscriptionDate': 1663866032000, 'offerCode': 'V1_OFFRE_LD_V_MAX_TARIF_REDUIT_M', 'ratedTransaction': None, 'walletId': 1494779}\n",
      "yes\n"
     ]
    }
   ],
   "source": [
    "#On regarde un trajet pour voir la structure du dictionnaire \n",
    "\n",
    "dict[\"walletOperations\"][3]\n",
    "trajet = dict[\"walletOperations\"][100]\n",
    "print(trajet)\n",
    "\n",
    "# On essaye ci-dessous de voir si le \"parameter1\" correspond à l'information vélo électrique ou mécanique\n",
    "# il s'avère que oui (en regardant sur le site web avec quelques tests) donc on va utiliser cette info dans nos analyses\n",
    "\n",
    "for i in range(484):\n",
    "    ID = dict[\"walletOperations\"][i]['parameter3']['BIKEID']\n",
    "    if ID == '06324':\n",
    "        print(dict[\"walletOperations\"][i]['parameter1'])"
   ]
  },
  {
   "cell_type": "code",
   "execution_count": 10,
   "metadata": {},
   "outputs": [
    {
     "name": "stdout",
     "output_type": "stream",
     "text": [
      "0\n"
     ]
    }
   ],
   "source": [
    "# On essaye de déterminer si \"AmountWithTax\" correspond au prix quand on dépasse 45 min de vélo, la réponse est oui (1€)\n",
    "# Les indicateurs \"Billed_Quantity\" et \"overcharging\" sont inutiles car ils sont tout le temps à 0 \n",
    "for i in range(484):\n",
    "    ID = dict[\"walletOperations\"][i]['parameter3']['BIKEID']\n",
    "    if ID == '37264':\n",
    "        print(dict[\"walletOperations\"][i]['amountWithTax'])"
   ]
  },
  {
   "cell_type": "code",
   "execution_count": 245,
   "metadata": {},
   "outputs": [],
   "source": [
    "# On récupère les données fournies par la Webapi dans un excel \n",
    "\n",
    "from asyncio.windows_events import NULL\n",
    "\n",
    "def add_dict(dict):\n",
    "    with open('Velib_data.csv', 'a+', encoding='utf8', newline='') as f:\n",
    "        thewriter = writer(f)\n",
    "        header = ['Distance', 'Carbon', 'id_velo', 'Day', 'Date', 'Starttime', 'Endtime', 'avg_speed', \n",
    "        'Electric', 'Surcharge', 'Billed_for_ride', 'Overcharged_for_ride', 'Cyclist']\n",
    "        thewriter.writerow(header)\n",
    "\n",
    "        # Il faudrait développer une variable pour récupérer le nombre total des trajets à chaque fois sans le chercher manuellement\n",
    "        for i in range (0, 420):\n",
    "            trajet = dict[\"walletOperations\"][i]\n",
    "            Distance = trajet['parameter3']['DISTANCE']\n",
    "            Carbon = trajet['parameter3']['SAVED_CARBON_DIOXIDE']\n",
    "            id_velo = trajet['parameter3']['BIKEID']\n",
    "            Electric = trajet['parameter1']\n",
    "            Surcharge = trajet['amountWithTax']\n",
    "\n",
    "            # On récupère les timestamp sous format unix et on les transforme en format de date compréhensible\n",
    "            Startdate = trajet['startDate']/1000\n",
    "            Day = datetime.utcfromtimestamp(Startdate).strftime('%A')\n",
    "            Date = datetime.utcfromtimestamp(Startdate).strftime('%d-%m-%Y')\n",
    "            Starttime = datetime.utcfromtimestamp(Startdate).strftime('%H:%M:%S')\n",
    "\n",
    "\n",
    "            Enddate = trajet['endDate']/1000\n",
    "            Endtime = datetime.utcfromtimestamp(Enddate).strftime('%H:%M:%S')\n",
    "\n",
    "            avg_speed = trajet['parameter3']['AVERAGE_SPEED']\n",
    "            Cyclist = 'Cyclist C'\n",
    "\n",
    "            #Les deux variables suivantes ne sont pas toujours présentes, donc on estime que c'est 0 en cas d'absence\n",
    "            # Probablement inutiles mais on les garde pour l'instant\n",
    "            try: \n",
    "                Billed_for_ride = trajet['parameter3']['BILLED_QUANTITY']\n",
    "            except: \n",
    "                Billed_for_ride = '0'\n",
    "        \n",
    "            try: \n",
    "                Overcharged_for_ride = trajet['parameter3']['OVERCHARGING_QUANTITY']\n",
    "            except: \n",
    "                Overcharged_for_ride = '0'\n",
    "                \n",
    "            # On écrit les lignes dans le fichier avec ces variables\n",
    "            info = [Distance, Carbon, id_velo, Day, Date, Starttime, Endtime,\n",
    "            avg_speed, Electric, Surcharge, Billed_for_ride, Overcharged_for_ride, Cyclist]\n",
    "            thewriter.writerow(info)"
   ]
  },
  {
   "cell_type": "code",
   "execution_count": 4,
   "metadata": {},
   "outputs": [
    {
     "data": {
      "text/html": [
       "<div>\n",
       "<style scoped>\n",
       "    .dataframe tbody tr th:only-of-type {\n",
       "        vertical-align: middle;\n",
       "    }\n",
       "\n",
       "    .dataframe tbody tr th {\n",
       "        vertical-align: top;\n",
       "    }\n",
       "\n",
       "    .dataframe thead th {\n",
       "        text-align: right;\n",
       "    }\n",
       "</style>\n",
       "<table border=\"1\" class=\"dataframe\">\n",
       "  <thead>\n",
       "    <tr style=\"text-align: right;\">\n",
       "      <th></th>\n",
       "      <th>Distance</th>\n",
       "      <th>Carbon</th>\n",
       "      <th>id_velo</th>\n",
       "      <th>Day</th>\n",
       "      <th>Date</th>\n",
       "      <th>Starttime</th>\n",
       "      <th>Endtime</th>\n",
       "      <th>avg_speed</th>\n",
       "      <th>Electric</th>\n",
       "      <th>Surcharge</th>\n",
       "      <th>Billed_for_ride</th>\n",
       "      <th>Overcharged_for_ride</th>\n",
       "      <th>Cyclist</th>\n",
       "    </tr>\n",
       "  </thead>\n",
       "  <tbody>\n",
       "    <tr>\n",
       "      <th>0</th>\n",
       "      <td>1592.0</td>\n",
       "      <td>176.7</td>\n",
       "      <td>50675.0</td>\n",
       "      <td>Sunday</td>\n",
       "      <td>02-10-2022</td>\n",
       "      <td>11:39:07</td>\n",
       "      <td>11:46:20</td>\n",
       "      <td>13.1</td>\n",
       "      <td>no</td>\n",
       "      <td>0</td>\n",
       "      <td>0.0</td>\n",
       "      <td>0.0</td>\n",
       "      <td>Cyclist A</td>\n",
       "    </tr>\n",
       "    <tr>\n",
       "      <th>1</th>\n",
       "      <td>1427.0</td>\n",
       "      <td>158.4</td>\n",
       "      <td>13331.0</td>\n",
       "      <td>Sunday</td>\n",
       "      <td>02-10-2022</td>\n",
       "      <td>10:01:07</td>\n",
       "      <td>10:07:55</td>\n",
       "      <td>12.7</td>\n",
       "      <td>no</td>\n",
       "      <td>0</td>\n",
       "      <td>0.0</td>\n",
       "      <td>0.0</td>\n",
       "      <td>Cyclist A</td>\n",
       "    </tr>\n",
       "    <tr>\n",
       "      <th>2</th>\n",
       "      <td>10061.0</td>\n",
       "      <td>1116.8</td>\n",
       "      <td>30128.0</td>\n",
       "      <td>Saturday</td>\n",
       "      <td>01-10-2022</td>\n",
       "      <td>22:21:29</td>\n",
       "      <td>23:00:21</td>\n",
       "      <td>15.6</td>\n",
       "      <td>yes</td>\n",
       "      <td>0</td>\n",
       "      <td>0.0</td>\n",
       "      <td>0.0</td>\n",
       "      <td>Cyclist A</td>\n",
       "    </tr>\n",
       "    <tr>\n",
       "      <th>3</th>\n",
       "      <td>2267.0</td>\n",
       "      <td>251.6</td>\n",
       "      <td>5767.0</td>\n",
       "      <td>Friday</td>\n",
       "      <td>30-09-2022</td>\n",
       "      <td>20:30:34</td>\n",
       "      <td>20:41:16</td>\n",
       "      <td>13.1</td>\n",
       "      <td>yes</td>\n",
       "      <td>0</td>\n",
       "      <td>0.0</td>\n",
       "      <td>0.0</td>\n",
       "      <td>Cyclist A</td>\n",
       "    </tr>\n",
       "    <tr>\n",
       "      <th>4</th>\n",
       "      <td>2934.0</td>\n",
       "      <td>325.7</td>\n",
       "      <td>10300.0</td>\n",
       "      <td>Friday</td>\n",
       "      <td>30-09-2022</td>\n",
       "      <td>18:40:14</td>\n",
       "      <td>18:52:42</td>\n",
       "      <td>14.2</td>\n",
       "      <td>yes</td>\n",
       "      <td>0</td>\n",
       "      <td>0.0</td>\n",
       "      <td>0.0</td>\n",
       "      <td>Cyclist A</td>\n",
       "    </tr>\n",
       "  </tbody>\n",
       "</table>\n",
       "</div>"
      ],
      "text/plain": [
       "   Distance  Carbon  id_velo       Day        Date Starttime   Endtime  \\\n",
       "0    1592.0   176.7  50675.0    Sunday  02-10-2022  11:39:07  11:46:20   \n",
       "1    1427.0   158.4  13331.0    Sunday  02-10-2022  10:01:07  10:07:55   \n",
       "2   10061.0  1116.8  30128.0  Saturday  01-10-2022  22:21:29  23:00:21   \n",
       "3    2267.0   251.6   5767.0    Friday  30-09-2022  20:30:34  20:41:16   \n",
       "4    2934.0   325.7  10300.0    Friday  30-09-2022  18:40:14  18:52:42   \n",
       "\n",
       "   avg_speed Electric  Surcharge  Billed_for_ride  Overcharged_for_ride  \\\n",
       "0       13.1       no          0              0.0                   0.0   \n",
       "1       12.7       no          0              0.0                   0.0   \n",
       "2       15.6      yes          0              0.0                   0.0   \n",
       "3       13.1      yes          0              0.0                   0.0   \n",
       "4       14.2      yes          0              0.0                   0.0   \n",
       "\n",
       "     Cyclist  \n",
       "0  Cyclist A  \n",
       "1  Cyclist A  \n",
       "2  Cyclist A  \n",
       "3  Cyclist A  \n",
       "4  Cyclist A  "
      ]
     },
     "execution_count": 4,
     "metadata": {},
     "output_type": "execute_result"
    }
   ],
   "source": [
    "# On récupère le csv sous Pandas\n",
    "PATH_csv = r\"C:\\Users\\anass.kamalidrissi\\.vscode\\Velib_data.csv\"\n",
    "df = pd.read_csv(PATH_csv)\n",
    "\n",
    "df.head()\n",
    "\n"
   ]
  },
  {
   "cell_type": "code",
   "execution_count": 3,
   "metadata": {},
   "outputs": [
    {
     "data": {
      "text/plain": [
       "(1867, 13)"
      ]
     },
     "execution_count": 3,
     "metadata": {},
     "output_type": "execute_result"
    }
   ],
   "source": [
    "# 2. Analyse exploratoire de données \n",
    "\n",
    "df.shape"
   ]
  },
  {
   "cell_type": "code",
   "execution_count": 80,
   "metadata": {},
   "outputs": [
    {
     "data": {
      "text/html": [
       "<div>\n",
       "<style scoped>\n",
       "    .dataframe tbody tr th:only-of-type {\n",
       "        vertical-align: middle;\n",
       "    }\n",
       "\n",
       "    .dataframe tbody tr th {\n",
       "        vertical-align: top;\n",
       "    }\n",
       "\n",
       "    .dataframe thead th {\n",
       "        text-align: right;\n",
       "    }\n",
       "</style>\n",
       "<table border=\"1\" class=\"dataframe\">\n",
       "  <thead>\n",
       "    <tr style=\"text-align: right;\">\n",
       "      <th></th>\n",
       "      <th>Distance</th>\n",
       "      <th>avg_speed</th>\n",
       "    </tr>\n",
       "  </thead>\n",
       "  <tbody>\n",
       "    <tr>\n",
       "      <th>count</th>\n",
       "      <td>1867.000000</td>\n",
       "      <td>1867.000000</td>\n",
       "    </tr>\n",
       "    <tr>\n",
       "      <th>mean</th>\n",
       "      <td>3307.355651</td>\n",
       "      <td>11.392180</td>\n",
       "    </tr>\n",
       "    <tr>\n",
       "      <th>std</th>\n",
       "      <td>3415.849348</td>\n",
       "      <td>6.008262</td>\n",
       "    </tr>\n",
       "    <tr>\n",
       "      <th>min</th>\n",
       "      <td>0.000000</td>\n",
       "      <td>0.000000</td>\n",
       "    </tr>\n",
       "    <tr>\n",
       "      <th>25%</th>\n",
       "      <td>830.000000</td>\n",
       "      <td>7.150000</td>\n",
       "    </tr>\n",
       "    <tr>\n",
       "      <th>50%</th>\n",
       "      <td>2551.000000</td>\n",
       "      <td>12.900000</td>\n",
       "    </tr>\n",
       "    <tr>\n",
       "      <th>75%</th>\n",
       "      <td>4371.000000</td>\n",
       "      <td>15.900000</td>\n",
       "    </tr>\n",
       "    <tr>\n",
       "      <th>max</th>\n",
       "      <td>24650.000000</td>\n",
       "      <td>26.600000</td>\n",
       "    </tr>\n",
       "  </tbody>\n",
       "</table>\n",
       "</div>"
      ],
      "text/plain": [
       "           Distance    avg_speed\n",
       "count   1867.000000  1867.000000\n",
       "mean    3307.355651    11.392180\n",
       "std     3415.849348     6.008262\n",
       "min        0.000000     0.000000\n",
       "25%      830.000000     7.150000\n",
       "50%     2551.000000    12.900000\n",
       "75%     4371.000000    15.900000\n",
       "max    24650.000000    26.600000"
      ]
     },
     "execution_count": 80,
     "metadata": {},
     "output_type": "execute_result"
    }
   ],
   "source": [
    "df[['Distance','avg_speed']].describe()"
   ]
  },
  {
   "cell_type": "code",
   "execution_count": 6,
   "metadata": {},
   "outputs": [
    {
     "data": {
      "image/png": "[encoded data removed]",
      "text/plain": [
       "<Figure size 1440x432 with 1 Axes>"
      ]
     },
     "metadata": {
      "needs_background": "light"
     },
     "output_type": "display_data"
    }
   ],
   "source": [
    "# On affiche un scatterplot de la distance en fonction de la vitesse moyenne de tous les trajets\n",
    "\n",
    "sns.scatterplot(df['avg_speed'], df['Distance'])\n",
    "plt.xlabel('Average speed')\n",
    "plt.ylabel('Distance (m)')\n",
    "plt.title('Scatterplot des distances en fonction de la vitesse moyenne')\n",
    "plt.rcParams[\"figure.figsize\"] = (20,6)\n",
    "plt.show()\n"
   ]
  },
  {
   "cell_type": "code",
   "execution_count": 81,
   "metadata": {},
   "outputs": [
    {
     "data": {
      "text/plain": [
       "Text(0.5, 1.0, 'Boxplot des vitesses moyennes')"
      ]
     },
     "execution_count": 81,
     "metadata": {},
     "output_type": "execute_result"
    },
    {
     "data": {
      "image/png": "[encoded data removed]",
      "text/plain": [
       "<Figure size 1440x432 with 2 Axes>"
      ]
     },
     "metadata": {
      "needs_background": "light"
     },
     "output_type": "display_data"
    }
   ],
   "source": [
    "# Boxplots pour voir les valeurs aberrantes\n",
    "\n",
    "f, axes = plt.subplots(ncols =2, figsize=(20,6))\n",
    "\n",
    "sns.boxplot(df['Distance'], ax=axes[0], color='purple')\n",
    "axes[0].set_title('Boxplot des Distances')\n",
    "\n",
    "sns.boxplot(df['avg_speed'], ax=axes[1], color='blue')\n",
    "axes[1].set_title('Boxplot des vitesses moyennes')\n"
   ]
  },
  {
   "cell_type": "code",
   "execution_count": 87,
   "metadata": {},
   "outputs": [
    {
     "data": {
      "text/plain": [
       "Text(0.5, 1.0, 'Distribution des vitesses moyennes')"
      ]
     },
     "execution_count": 87,
     "metadata": {},
     "output_type": "execute_result"
    },
    {
     "data": {
      "image/png": "[encoded data removed]",
      "text/plain": [
       "<Figure size 1440x432 with 2 Axes>"
      ]
     },
     "metadata": {
      "needs_background": "light"
     },
     "output_type": "display_data"
    }
   ],
   "source": [
    "\n",
    "f, axes = plt.subplots(ncols =2, figsize=(20,6))\n",
    "\n",
    "sns.distplot(df['Distance'], ax=axes[0] , fit=norm, color='purple')\n",
    "axes[0].set_title('Distribution des distances')\n",
    "\n",
    "sns.distplot(df['avg_speed'], ax=axes[1], fit=norm, color='blue')\n",
    "axes[1].set_title('Distribution des vitesses moyennes')\n",
    "\n",
    "# Il y'a beaucoup de trajets avec une vitesse moyenne proche de 0. Si on enlève ces valeurs on pourrait s'approcher d'une distribution normale "
   ]
  },
  {
   "cell_type": "code",
   "execution_count": 39,
   "metadata": {},
   "outputs": [
    {
     "data": {
      "text/html": [
       "<div>\n",
       "<style scoped>\n",
       "    .dataframe tbody tr th:only-of-type {\n",
       "        vertical-align: middle;\n",
       "    }\n",
       "\n",
       "    .dataframe tbody tr th {\n",
       "        vertical-align: top;\n",
       "    }\n",
       "\n",
       "    .dataframe thead th {\n",
       "        text-align: right;\n",
       "    }\n",
       "</style>\n",
       "<table border=\"1\" class=\"dataframe\">\n",
       "  <thead>\n",
       "    <tr style=\"text-align: right;\">\n",
       "      <th></th>\n",
       "      <th>count</th>\n",
       "    </tr>\n",
       "    <tr>\n",
       "      <th>Cyclist</th>\n",
       "      <th></th>\n",
       "    </tr>\n",
       "  </thead>\n",
       "  <tbody>\n",
       "    <tr>\n",
       "      <th>Cyclist A</th>\n",
       "      <td>487</td>\n",
       "    </tr>\n",
       "    <tr>\n",
       "      <th>Cyclist B</th>\n",
       "      <td>960</td>\n",
       "    </tr>\n",
       "    <tr>\n",
       "      <th>Cyclist C</th>\n",
       "      <td>420</td>\n",
       "    </tr>\n",
       "  </tbody>\n",
       "</table>\n",
       "</div>"
      ],
      "text/plain": [
       "           count\n",
       "Cyclist         \n",
       "Cyclist A    487\n",
       "Cyclist B    960\n",
       "Cyclist C    420"
      ]
     },
     "execution_count": 39,
     "metadata": {},
     "output_type": "execute_result"
    }
   ],
   "source": [
    "# Proportions de trajets par Cycliste \n",
    "\n",
    "df.groupby('Cyclist').agg(count=('Cyclist', 'count'))\n",
    "\n",
    "# Le cycliste B est sur-représenté dans le dataset. \n",
    "# Une piste à considérer est de sous-échantilloner le Cyclist B afin d'avoir des proportions équilibrées entre les 3 cyclistes. "
   ]
  },
  {
   "cell_type": "code",
   "execution_count": 124,
   "metadata": {},
   "outputs": [
    {
     "name": "stdout",
     "output_type": "stream",
     "text": [
      "le pourcentage de vélos en panne est de : 18.75 %\n"
     ]
    },
    {
     "data": {
      "image/png": "[encoded data removed]",
      "text/plain": [
       "<Figure size 1440x432 with 1 Axes>"
      ]
     },
     "metadata": {},
     "output_type": "display_data"
    }
   ],
   "source": [
    "# Nous allons calculer le pourcentage des vélos pris qui étaient en panne (Moins de 500 mètres parcourus => remis en station)\n",
    "\n",
    "Distances = df['Distance'] \n",
    "Pannes = [x for x in Distances if x < 500]\n",
    "\n",
    "prct_pannes = round(len(Pannes)*100/len(Distances),2)\n",
    "print(f\"le pourcentage de vélos en panne est de : {prct_pannes} %\")\n",
    "\n",
    "\n",
    "# 18.75% des vélos étaient en panne, sachant qu'on examine l'état des vélos à l'oeil avant de prendre le vélo.\n",
    "# Le vrai taux de panne pourrait atteindre 30 ou 40% puisque les sations sont souvent déconnectées entièrement \n",
    "\n",
    "# Pie chart\n",
    "labels = 'En panne', 'Fonctionnels'\n",
    "sizes = [prct_pannes, 100-prct_pannes]\n",
    "colors =['hotpink','green']\n",
    "explode = (0, 0.1)  \n",
    "\n",
    "fig1, ax1 = plt.subplots()\n",
    "patches, texts, pcts = ax1.pie(\n",
    "    sizes, explode=explode, labels=labels, colors=colors, autopct='%1.1f%%',\n",
    "    shadow=True, startangle=90\n",
    "    )\n",
    "\n",
    "for text in texts:\n",
    "    text.set_color('white')\n",
    "plt.setp(texts, fontweight=600,fontsize=12)\n",
    "ax1.axis('equal')\n",
    "ax1.set_title('Pourcentage de vélibs en panne', color='white', fontsize=18)\n",
    "\n",
    "plt.show()"
   ]
  },
  {
   "cell_type": "code",
   "execution_count": 131,
   "metadata": {},
   "outputs": [
    {
     "name": "stdout",
     "output_type": "stream",
     "text": [
      " Cyclist A Vitesse moyenne en électrique : 14.29, distance moyenne en électrique : 2527.77 Vitesse moyenne en mécanique : 11.35, Distance moyenne en mécanique : 2022.25 \n",
      " Cyclist B Vitesse moyenne en électrique : 15.72, distance moyenne en électrique : 5632.52 Vitesse moyenne en mécanique : 11.36, Distance moyenne en mécanique : 4882.85 \n",
      " Cyclist C Vitesse moyenne en électrique : 14.2, distance moyenne en électrique : 3543.01 Vitesse moyenne en mécanique : 10.69, Distance moyenne en mécanique : 1162.39 \n"
     ]
    }
   ],
   "source": [
    "#On va enlever les distances en dessous de 500mètres (Vélos en panne), puis on va comparer les vitesses moyennes et les distances moyennes des trois cyclistes\n",
    "\n",
    "Cyclists = ['Cyclist A', 'Cyclist B', 'Cyclist C']\n",
    "\n",
    "for Cyclist in Cyclists:\n",
    "    df_Cyclist_electric = df[df['Cyclist'] == Cyclist][df['Distance'] > 500][df['Electric'] == 'yes']\n",
    "    df_Cyclist_mechanical = df[df['Cyclist'] == Cyclist][df['Distance'] > 500][df['Electric'] == 'no']\n",
    "    avg_electric = round(df_Cyclist_electric['avg_speed'].mean(),2)\n",
    "    avg_elec_dist = round(df_Cyclist_electric['Distance'].mean(),2)\n",
    "    avg_mech = round(df_Cyclist_mechanical['avg_speed'].mean(),2)\n",
    "    avg_mech_dist = round(df_Cyclist_mechanical['Distance'].mean(),2)\n",
    "    print(\n",
    "        f\" {Cyclist} Vitesse moyenne en électrique : {avg_electric}, distance moyenne en électrique : {avg_elec_dist}\"\n",
    "        f\" Vitesse moyenne en mécanique : {avg_mech}, Distance moyenne en mécanique : {avg_mech_dist} \"\n",
    "        )\n",
    "#On remarque qu'il y'a des différences entre les trois cyclistes, surtout pour la distance.\n",
    "#Ce seront des variables utiles pour nos modèles"
   ]
  },
  {
   "cell_type": "code",
   "execution_count": 25,
   "metadata": {},
   "outputs": [
    {
     "data": {
      "text/plain": [
       "Text(0.5, 1.0, 'Cycliste C - utilisation sur la semaine')"
      ]
     },
     "execution_count": 25,
     "metadata": {},
     "output_type": "execute_result"
    },
    {
     "data": {
      "image/png": "[encoded data removed]",
      "text/plain": [
       "<Figure size 1440x1080 with 3 Axes>"
      ]
     },
     "metadata": {
      "needs_background": "light"
     },
     "output_type": "display_data"
    }
   ],
   "source": [
    "#Nous avons des tendances d'utilisation assez différentes sur les jours de la semaine, ce sera probablement une bonne variable pour les prédictions \n",
    "df_CyclistA = df[df['Cyclist'] == 'Cyclist A']\n",
    "df_CyclistB = df[df['Cyclist'] == 'Cyclist B']\n",
    "df_CyclistC = df[df['Cyclist'] == 'Cyclist C']\n",
    "\n",
    "f, (ax1, ax2, ax3) = plt.subplots(3,1, figsize =(20,15))\n",
    "\n",
    "sns.countplot(df_CyclistA['Day'], ax=ax1, order =df_CyclistA['Day'].value_counts().index)\n",
    "ax1.set_title('Cycliste A - utilisation sur la semaine')\n",
    "\n",
    "sns.countplot(df_CyclistB['Day'], ax=ax2, order =df_CyclistB['Day'].value_counts().index)\n",
    "ax2.set_title('Cycliste B - utilisation sur la semaine')\n",
    "\n",
    "sns.countplot(df_CyclistC['Day'], ax=ax3, order =df_CyclistC['Day'].value_counts().index)\n",
    "ax3.set_title('Cycliste C - utilisation sur la semaine')"
   ]
  },
  {
   "cell_type": "code",
   "execution_count": 26,
   "metadata": {},
   "outputs": [
    {
     "data": {
      "text/html": [
       "<div>\n",
       "<style scoped>\n",
       "    .dataframe tbody tr th:only-of-type {\n",
       "        vertical-align: middle;\n",
       "    }\n",
       "\n",
       "    .dataframe tbody tr th {\n",
       "        vertical-align: top;\n",
       "    }\n",
       "\n",
       "    .dataframe thead th {\n",
       "        text-align: right;\n",
       "    }\n",
       "</style>\n",
       "<table border=\"1\" class=\"dataframe\">\n",
       "  <thead>\n",
       "    <tr style=\"text-align: right;\">\n",
       "      <th></th>\n",
       "      <th>id_velo</th>\n",
       "    </tr>\n",
       "  </thead>\n",
       "  <tbody>\n",
       "    <tr>\n",
       "      <th>17050.0</th>\n",
       "      <td>4</td>\n",
       "    </tr>\n",
       "    <tr>\n",
       "      <th>45848.0</th>\n",
       "      <td>4</td>\n",
       "    </tr>\n",
       "    <tr>\n",
       "      <th>16605.0</th>\n",
       "      <td>4</td>\n",
       "    </tr>\n",
       "    <tr>\n",
       "      <th>42996.0</th>\n",
       "      <td>4</td>\n",
       "    </tr>\n",
       "    <tr>\n",
       "      <th>44737.0</th>\n",
       "      <td>3</td>\n",
       "    </tr>\n",
       "    <tr>\n",
       "      <th>11855.0</th>\n",
       "      <td>3</td>\n",
       "    </tr>\n",
       "    <tr>\n",
       "      <th>39461.0</th>\n",
       "      <td>3</td>\n",
       "    </tr>\n",
       "    <tr>\n",
       "      <th>51123.0</th>\n",
       "      <td>3</td>\n",
       "    </tr>\n",
       "    <tr>\n",
       "      <th>11978.0</th>\n",
       "      <td>3</td>\n",
       "    </tr>\n",
       "    <tr>\n",
       "      <th>38372.0</th>\n",
       "      <td>3</td>\n",
       "    </tr>\n",
       "    <tr>\n",
       "      <th>45655.0</th>\n",
       "      <td>3</td>\n",
       "    </tr>\n",
       "    <tr>\n",
       "      <th>10554.0</th>\n",
       "      <td>3</td>\n",
       "    </tr>\n",
       "    <tr>\n",
       "      <th>44833.0</th>\n",
       "      <td>3</td>\n",
       "    </tr>\n",
       "    <tr>\n",
       "      <th>50547.0</th>\n",
       "      <td>3</td>\n",
       "    </tr>\n",
       "    <tr>\n",
       "      <th>34629.0</th>\n",
       "      <td>3</td>\n",
       "    </tr>\n",
       "  </tbody>\n",
       "</table>\n",
       "</div>"
      ],
      "text/plain": [
       "         id_velo\n",
       "17050.0        4\n",
       "45848.0        4\n",
       "16605.0        4\n",
       "42996.0        4\n",
       "44737.0        3\n",
       "11855.0        3\n",
       "39461.0        3\n",
       "51123.0        3\n",
       "11978.0        3\n",
       "38372.0        3\n",
       "45655.0        3\n",
       "10554.0        3\n",
       "44833.0        3\n",
       "50547.0        3\n",
       "34629.0        3"
      ]
     },
     "execution_count": 26,
     "metadata": {},
     "output_type": "execute_result"
    }
   ],
   "source": [
    "# Combien de fois le Cycliste B a utilisé le même vélib plusieurs fois \n",
    "\n",
    "df[df['Cyclist'] == 'Cyclist B']['id_velo'].value_counts().loc[lambda x : x>2].to_frame()"
   ]
  },
  {
   "cell_type": "code",
   "execution_count": 40,
   "metadata": {},
   "outputs": [],
   "source": [
    "# 3. Transformation des données\n",
    "\n",
    "#Supprimer les faux trajets qui correspondent aux vélos en panne  \n",
    "\n",
    "df_new = df[df['Distance'] > 500]"
   ]
  },
  {
   "cell_type": "code",
   "execution_count": 49,
   "metadata": {},
   "outputs": [
    {
     "name": "stdout",
     "output_type": "stream",
     "text": [
      "count     1517.000000\n",
      "mean      4052.646671\n",
      "std       3375.284271\n",
      "min        504.000000\n",
      "25%       1571.000000\n",
      "50%       2786.000000\n",
      "75%       5543.000000\n",
      "max      24650.000000\n",
      "Name: Distance, dtype: float64\n",
      "11501.0\n",
      "-4387.0\n"
     ]
    }
   ],
   "source": [
    "# Supprimer les distances aberrantes \n",
    "\n",
    "dist_stat = df_new['Distance'].describe()\n",
    "\n",
    "print(dist_stat)\n",
    "\n",
    "Q1 = dist_stat[4]\n",
    "Q3 = dist_stat[6]\n",
    "IQR = Q3-Q1\n",
    "upper_bound = Q3 +1.5*IQR\n",
    "lower_bound = Q1 -1.5*IQR\n",
    "\n",
    "print(upper_bound)\n",
    "print(lower_bound)\n",
    "\n",
    "# On n'aura pas besoin de la borne inférieure"
   ]
  },
  {
   "cell_type": "code",
   "execution_count": 54,
   "metadata": {},
   "outputs": [
    {
     "data": {
      "text/plain": [
       "Distance                1452\n",
       "Carbon                  1452\n",
       "id_velo                 1447\n",
       "Day                     1452\n",
       "Date                    1452\n",
       "Starttime               1452\n",
       "Endtime                 1452\n",
       "avg_speed               1452\n",
       "Electric                1452\n",
       "Surcharge               1452\n",
       "Billed_for_ride         1452\n",
       "Overcharged_for_ride    1452\n",
       "Cyclist                 1452\n",
       "dtype: int64"
      ]
     },
     "execution_count": 54,
     "metadata": {},
     "output_type": "execute_result"
    }
   ],
   "source": [
    "df_new = df_new[df_new['Distance'] < upper_bound]\n",
    "df_new.count()"
   ]
  },
  {
   "cell_type": "code",
   "execution_count": 55,
   "metadata": {},
   "outputs": [
    {
     "data": {
      "text/plain": [
       "Distance                0\n",
       "Carbon                  0\n",
       "id_velo                 5\n",
       "Day                     0\n",
       "Date                    0\n",
       "Starttime               0\n",
       "Endtime                 0\n",
       "avg_speed               0\n",
       "Electric                0\n",
       "Surcharge               0\n",
       "Billed_for_ride         0\n",
       "Overcharged_for_ride    0\n",
       "Cyclist                 0\n",
       "dtype: int64"
      ]
     },
     "execution_count": 55,
     "metadata": {},
     "output_type": "execute_result"
    }
   ],
   "source": [
    "# Les valeurs nulles correspondent à la variable id_velo, ce n'est pas embêtant puisqu'on l'utilisera pas dans la suite\n",
    "df_new.isnull().sum()"
   ]
  },
  {
   "cell_type": "code",
   "execution_count": 56,
   "metadata": {},
   "outputs": [
    {
     "data": {
      "text/plain": [
       "Text(0.5, 1.0, 'Boxplot des vitesses moyennes')"
      ]
     },
     "execution_count": 56,
     "metadata": {},
     "output_type": "execute_result"
    },
    {
     "data": {
      "image/png": "[encoded data removed]",
      "text/plain": [
       "<Figure size 1440x432 with 2 Axes>"
      ]
     },
     "metadata": {
      "needs_background": "light"
     },
     "output_type": "display_data"
    }
   ],
   "source": [
    "# Boxplots après avoir supprimé les valeurs aberrantes\n",
    "\n",
    "f, axes = plt.subplots(ncols =2, figsize=(20,6))\n",
    "\n",
    "sns.boxplot(df_new['Distance'], ax=axes[0], color='purple')\n",
    "axes[0].set_title('Boxplot des Distances')\n",
    "\n",
    "sns.boxplot(df_new['avg_speed'], ax=axes[1], color='blue')\n",
    "axes[1].set_title('Boxplot des vitesses moyennes')\n"
   ]
  },
  {
   "cell_type": "code",
   "execution_count": 57,
   "metadata": {},
   "outputs": [
    {
     "data": {
      "text/plain": [
       "Text(0.5, 1.0, 'Distribution des vitesses moyennes')"
      ]
     },
     "execution_count": 57,
     "metadata": {},
     "output_type": "execute_result"
    },
    {
     "data": {
      "image/png": "[encoded data removed]",
      "text/plain": [
       "<Figure size 1440x432 with 2 Axes>"
      ]
     },
     "metadata": {
      "needs_background": "light"
     },
     "output_type": "display_data"
    }
   ],
   "source": [
    "# Distributions \n",
    "# La vitesse moyenne s'approche d'une distribution normale \n",
    "# Les distances ne suivent pas une distribution normale \n",
    "\n",
    "f, axes = plt.subplots(ncols =2, figsize=(20,6))\n",
    "\n",
    "sns.distplot(df_new['Distance'], ax=axes[0] , fit=norm, color='purple')\n",
    "axes[0].set_title('Distribution des distances')\n",
    "\n",
    "sns.distplot(df_new['avg_speed'], ax=axes[1], fit=norm, color='blue')\n",
    "axes[1].set_title('Distribution des vitesses moyennes')"
   ]
  },
  {
   "cell_type": "code",
   "execution_count": 66,
   "metadata": {},
   "outputs": [
    {
     "name": "stdout",
     "output_type": "stream",
     "text": [
      "Skewness : L'asymétrie vitesse moy: -0.491932\n",
      "Kurtosis : L'aplatissement vitesse moy: -0.239939\n",
      "\n",
      "Skewness : L'asymétrie distances: 1.145136\n",
      "Kurtosis : L'aplatissement distances: 0.280709\n"
     ]
    }
   ],
   "source": [
    "print(\"Skewness : L'asymétrie vitesse moy: %f\" % df_new['avg_speed'].skew())\n",
    "print(\"Kurtosis : L'aplatissement vitesse moy: %f\\n\" % df_new['avg_speed'].kurt())\n",
    "\n",
    "print(\"Skewness : L'asymétrie distances: %f\" % df_new['Distance'].skew())\n",
    "print(\"Kurtosis : L'aplatissement distances: %f\" % df_new['Distance'].kurt())\n"
   ]
  },
  {
   "cell_type": "code",
   "execution_count": 77,
   "metadata": {},
   "outputs": [],
   "source": [
    "# On va transformer la colonne des heures pour l'utiliser comme variable pour notre modèle\n",
    "df_new = df.assign(Hours = df_new['Starttime'].str[:2])"
   ]
  },
  {
   "cell_type": "code",
   "execution_count": 90,
   "metadata": {},
   "outputs": [
    {
     "data": {
      "text/html": [
       "<div>\n",
       "<style scoped>\n",
       "    .dataframe tbody tr th:only-of-type {\n",
       "        vertical-align: middle;\n",
       "    }\n",
       "\n",
       "    .dataframe tbody tr th {\n",
       "        vertical-align: top;\n",
       "    }\n",
       "\n",
       "    .dataframe thead th {\n",
       "        text-align: right;\n",
       "    }\n",
       "</style>\n",
       "<table border=\"1\" class=\"dataframe\">\n",
       "  <thead>\n",
       "    <tr style=\"text-align: right;\">\n",
       "      <th></th>\n",
       "      <th>Distance</th>\n",
       "      <th>Carbon</th>\n",
       "      <th>id_velo</th>\n",
       "      <th>Day</th>\n",
       "      <th>Date</th>\n",
       "      <th>Starttime</th>\n",
       "      <th>Endtime</th>\n",
       "      <th>avg_speed</th>\n",
       "      <th>Electric</th>\n",
       "      <th>Surcharge</th>\n",
       "      <th>Billed_for_ride</th>\n",
       "      <th>Overcharged_for_ride</th>\n",
       "      <th>Cyclist</th>\n",
       "      <th>Hours</th>\n",
       "      <th>scaled_distance</th>\n",
       "      <th>scaled_avg_speed</th>\n",
       "    </tr>\n",
       "  </thead>\n",
       "  <tbody>\n",
       "    <tr>\n",
       "      <th>0</th>\n",
       "      <td>1592.0</td>\n",
       "      <td>176.7</td>\n",
       "      <td>50675.0</td>\n",
       "      <td>Sunday</td>\n",
       "      <td>02-10-2022</td>\n",
       "      <td>11:39:07</td>\n",
       "      <td>11:46:20</td>\n",
       "      <td>13.1</td>\n",
       "      <td>no</td>\n",
       "      <td>0</td>\n",
       "      <td>0.0</td>\n",
       "      <td>0.0</td>\n",
       "      <td>Cyclist A</td>\n",
       "      <td>11</td>\n",
       "      <td>-0.270827</td>\n",
       "      <td>0.022857</td>\n",
       "    </tr>\n",
       "    <tr>\n",
       "      <th>1</th>\n",
       "      <td>1427.0</td>\n",
       "      <td>158.4</td>\n",
       "      <td>13331.0</td>\n",
       "      <td>Sunday</td>\n",
       "      <td>02-10-2022</td>\n",
       "      <td>10:01:07</td>\n",
       "      <td>10:07:55</td>\n",
       "      <td>12.7</td>\n",
       "      <td>no</td>\n",
       "      <td>0</td>\n",
       "      <td>0.0</td>\n",
       "      <td>0.0</td>\n",
       "      <td>Cyclist A</td>\n",
       "      <td>10</td>\n",
       "      <td>-0.317424</td>\n",
       "      <td>-0.022857</td>\n",
       "    </tr>\n",
       "    <tr>\n",
       "      <th>2</th>\n",
       "      <td>10061.0</td>\n",
       "      <td>1116.8</td>\n",
       "      <td>30128.0</td>\n",
       "      <td>Saturday</td>\n",
       "      <td>01-10-2022</td>\n",
       "      <td>22:21:29</td>\n",
       "      <td>23:00:21</td>\n",
       "      <td>15.6</td>\n",
       "      <td>yes</td>\n",
       "      <td>0</td>\n",
       "      <td>0.0</td>\n",
       "      <td>0.0</td>\n",
       "      <td>Cyclist A</td>\n",
       "      <td>22</td>\n",
       "      <td>2.120870</td>\n",
       "      <td>0.308571</td>\n",
       "    </tr>\n",
       "    <tr>\n",
       "      <th>3</th>\n",
       "      <td>2267.0</td>\n",
       "      <td>251.6</td>\n",
       "      <td>5767.0</td>\n",
       "      <td>Friday</td>\n",
       "      <td>30-09-2022</td>\n",
       "      <td>20:30:34</td>\n",
       "      <td>20:41:16</td>\n",
       "      <td>13.1</td>\n",
       "      <td>yes</td>\n",
       "      <td>0</td>\n",
       "      <td>0.0</td>\n",
       "      <td>0.0</td>\n",
       "      <td>Cyclist A</td>\n",
       "      <td>20</td>\n",
       "      <td>-0.080203</td>\n",
       "      <td>0.022857</td>\n",
       "    </tr>\n",
       "    <tr>\n",
       "      <th>4</th>\n",
       "      <td>2934.0</td>\n",
       "      <td>325.7</td>\n",
       "      <td>10300.0</td>\n",
       "      <td>Friday</td>\n",
       "      <td>30-09-2022</td>\n",
       "      <td>18:40:14</td>\n",
       "      <td>18:52:42</td>\n",
       "      <td>14.2</td>\n",
       "      <td>yes</td>\n",
       "      <td>0</td>\n",
       "      <td>0.0</td>\n",
       "      <td>0.0</td>\n",
       "      <td>Cyclist A</td>\n",
       "      <td>18</td>\n",
       "      <td>0.108162</td>\n",
       "      <td>0.148571</td>\n",
       "    </tr>\n",
       "  </tbody>\n",
       "</table>\n",
       "</div>"
      ],
      "text/plain": [
       "   Distance  Carbon  id_velo       Day        Date Starttime   Endtime  \\\n",
       "0    1592.0   176.7  50675.0    Sunday  02-10-2022  11:39:07  11:46:20   \n",
       "1    1427.0   158.4  13331.0    Sunday  02-10-2022  10:01:07  10:07:55   \n",
       "2   10061.0  1116.8  30128.0  Saturday  01-10-2022  22:21:29  23:00:21   \n",
       "3    2267.0   251.6   5767.0    Friday  30-09-2022  20:30:34  20:41:16   \n",
       "4    2934.0   325.7  10300.0    Friday  30-09-2022  18:40:14  18:52:42   \n",
       "\n",
       "   avg_speed Electric  Surcharge  Billed_for_ride  Overcharged_for_ride  \\\n",
       "0       13.1       no          0              0.0                   0.0   \n",
       "1       12.7       no          0              0.0                   0.0   \n",
       "2       15.6      yes          0              0.0                   0.0   \n",
       "3       13.1      yes          0              0.0                   0.0   \n",
       "4       14.2      yes          0              0.0                   0.0   \n",
       "\n",
       "     Cyclist Hours  scaled_distance  scaled_avg_speed  \n",
       "0  Cyclist A    11        -0.270827          0.022857  \n",
       "1  Cyclist A    10        -0.317424         -0.022857  \n",
       "2  Cyclist A    22         2.120870          0.308571  \n",
       "3  Cyclist A    20        -0.080203          0.022857  \n",
       "4  Cyclist A    18         0.108162          0.148571  "
      ]
     },
     "execution_count": 90,
     "metadata": {},
     "output_type": "execute_result"
    }
   ],
   "source": [
    "df_new.head()"
   ]
  },
  {
   "cell_type": "code",
   "execution_count": 107,
   "metadata": {},
   "outputs": [],
   "source": [
    "# Mise à l'échelle / Scaling\n",
    "\n",
    "from sklearn.preprocessing import StandardScaler, RobustScaler\n",
    "\n",
    "rob_scaler = RobustScaler()\n",
    "\n",
    "df_new['scaled_distance'] = rob_scaler.fit_transform(df_new['Distance'].values.reshape(-1,1))\n",
    "df_new['scaled_avg_speed'] = rob_scaler.fit_transform(df_new['avg_speed'].values.reshape(-1,1))\n",
    "df_new['scaled_hours'] = rob_scaler.fit_transform(df_new['Hours'].values.reshape(-1,1))\n"
   ]
  },
  {
   "cell_type": "code",
   "execution_count": 108,
   "metadata": {},
   "outputs": [
    {
     "data": {
      "text/html": [
       "<div>\n",
       "<style scoped>\n",
       "    .dataframe tbody tr th:only-of-type {\n",
       "        vertical-align: middle;\n",
       "    }\n",
       "\n",
       "    .dataframe tbody tr th {\n",
       "        vertical-align: top;\n",
       "    }\n",
       "\n",
       "    .dataframe thead th {\n",
       "        text-align: right;\n",
       "    }\n",
       "</style>\n",
       "<table border=\"1\" class=\"dataframe\">\n",
       "  <thead>\n",
       "    <tr style=\"text-align: right;\">\n",
       "      <th></th>\n",
       "      <th>scaled_distance</th>\n",
       "      <th>scaled_avg_speed</th>\n",
       "      <th>scaled_hours</th>\n",
       "    </tr>\n",
       "  </thead>\n",
       "  <tbody>\n",
       "    <tr>\n",
       "      <th>count</th>\n",
       "      <td>1867.000000</td>\n",
       "      <td>1867.000000</td>\n",
       "      <td>1867.000000</td>\n",
       "    </tr>\n",
       "    <tr>\n",
       "      <th>mean</th>\n",
       "      <td>0.213599</td>\n",
       "      <td>-0.172322</td>\n",
       "      <td>-0.227867</td>\n",
       "    </tr>\n",
       "    <tr>\n",
       "      <th>std</th>\n",
       "      <td>0.964657</td>\n",
       "      <td>0.686658</td>\n",
       "      <td>0.735572</td>\n",
       "    </tr>\n",
       "    <tr>\n",
       "      <th>min</th>\n",
       "      <td>-0.720418</td>\n",
       "      <td>-1.474286</td>\n",
       "      <td>-2.285714</td>\n",
       "    </tr>\n",
       "    <tr>\n",
       "      <th>25%</th>\n",
       "      <td>-0.486021</td>\n",
       "      <td>-0.657143</td>\n",
       "      <td>-0.714286</td>\n",
       "    </tr>\n",
       "    <tr>\n",
       "      <th>50%</th>\n",
       "      <td>0.000000</td>\n",
       "      <td>0.000000</td>\n",
       "      <td>0.000000</td>\n",
       "    </tr>\n",
       "    <tr>\n",
       "      <th>75%</th>\n",
       "      <td>0.513979</td>\n",
       "      <td>0.342857</td>\n",
       "      <td>0.285714</td>\n",
       "    </tr>\n",
       "    <tr>\n",
       "      <th>max</th>\n",
       "      <td>6.240892</td>\n",
       "      <td>1.565714</td>\n",
       "      <td>1.000000</td>\n",
       "    </tr>\n",
       "  </tbody>\n",
       "</table>\n",
       "</div>"
      ],
      "text/plain": [
       "       scaled_distance  scaled_avg_speed  scaled_hours\n",
       "count      1867.000000       1867.000000   1867.000000\n",
       "mean          0.213599         -0.172322     -0.227867\n",
       "std           0.964657          0.686658      0.735572\n",
       "min          -0.720418         -1.474286     -2.285714\n",
       "25%          -0.486021         -0.657143     -0.714286\n",
       "50%           0.000000          0.000000      0.000000\n",
       "75%           0.513979          0.342857      0.285714\n",
       "max           6.240892          1.565714      1.000000"
      ]
     },
     "execution_count": 108,
     "metadata": {},
     "output_type": "execute_result"
    }
   ],
   "source": [
    "df_new[['scaled_distance','scaled_avg_speed','scaled_hours']].describe()"
   ]
  },
  {
   "cell_type": "code",
   "execution_count": 97,
   "metadata": {},
   "outputs": [],
   "source": [
    "from sklearn.neighbors import KNeighborsClassifier\n",
    "from sklearn.linear_model import LogisticRegression\n",
    "from sklearn.discriminant_analysis import LinearDiscriminantAnalysis\n",
    "from sklearn.tree import DecisionTreeClassifier\n",
    "from sklearn.naive_bayes import GaussianNB\n",
    "from sklearn.svm import SVC\n",
    "from sklearn.model_selection import StratifiedKFold\n",
    "from sklearn.preprocessing import OneHotEncoder\n",
    "from sklearn.model_selection import cross_val_score\n",
    "from sklearn.compose import make_column_transformer"
   ]
  },
  {
   "cell_type": "code",
   "execution_count": 109,
   "metadata": {},
   "outputs": [
    {
     "data": {
      "text/plain": [
       "array([[1., 0.],\n",
       "       [1., 0.],\n",
       "       [0., 1.],\n",
       "       ...,\n",
       "       [0., 1.],\n",
       "       [0., 1.],\n",
       "       [0., 1.]])"
      ]
     },
     "execution_count": 109,
     "metadata": {},
     "output_type": "execute_result"
    }
   ],
   "source": [
    "# Data preprocessing \n",
    "# On transforme les features catégorique à l'aide d'une pipeline Onehotencoder\n",
    "ohe = OneHotEncoder(sparse=False)\n",
    "ohe.fit_transform(df_new[['Electric']])"
   ]
  },
  {
   "cell_type": "code",
   "execution_count": 110,
   "metadata": {},
   "outputs": [
    {
     "data": {
      "text/plain": [
       "[array(['no', 'yes'], dtype=object)]"
      ]
     },
     "execution_count": 110,
     "metadata": {},
     "output_type": "execute_result"
    }
   ],
   "source": [
    "ohe.categories_"
   ]
  },
  {
   "cell_type": "code",
   "execution_count": 112,
   "metadata": {},
   "outputs": [],
   "source": [
    "# On transforme uniquement les colonnes Day et Electric \n",
    "column_trans = make_column_transformer(\n",
    "    (OneHotEncoder(),['Day','Electric']),remainder='passthrough'\n",
    ")"
   ]
  },
  {
   "cell_type": "code",
   "execution_count": 113,
   "metadata": {},
   "outputs": [
    {
     "data": {
      "text/plain": [
       "array([[0.0, 0.0, 0.0, ..., -0.27082744987291724, -0.7142857142857143,\n",
       "        'Cyclist A'],\n",
       "       [0.0, 0.0, 0.0, ..., -0.31742445636825756, -0.8571428571428571,\n",
       "        'Cyclist A'],\n",
       "       [0.0, 0.0, 1.0, ..., 2.120869810787913, 0.8571428571428571,\n",
       "        'Cyclist A'],\n",
       "       ...,\n",
       "       [1.0, 0.0, 0.0, ..., 1.9833380401016663, 0.42857142857142855,\n",
       "        'Cyclist C'],\n",
       "       [1.0, 0.0, 0.0, ..., -0.7204179610279582, 0.42857142857142855,\n",
       "        'Cyclist C'],\n",
       "       [1.0, 0.0, 0.0, ..., -0.7201355549279864, 0.42857142857142855,\n",
       "        'Cyclist C']], dtype=object)"
      ]
     },
     "execution_count": 113,
     "metadata": {},
     "output_type": "execute_result"
    }
   ],
   "source": [
    "# pipeline\n",
    "cols = ['scaled_avg_speed','scaled_distance','Day','Electric','scaled_hours','Cyclist']\n",
    "column_trans.fit_transform(df_new[cols])"
   ]
  },
  {
   "cell_type": "code",
   "execution_count": 114,
   "metadata": {},
   "outputs": [],
   "source": [
    "from sklearn.pipeline import make_pipeline\n"
   ]
  },
  {
   "cell_type": "code",
   "execution_count": 116,
   "metadata": {},
   "outputs": [],
   "source": [
    "# On sépare le Dataset en parties training/test\n",
    "\n",
    "X = df_new[cols].drop('Cyclist', axis='columns')\n",
    "y=df_new.Cyclist\n",
    "X_train, X_test, Y_train, Y_test = train_test_split(X, y, test_size=0.20, random_state=1)\n"
   ]
  },
  {
   "cell_type": "code",
   "execution_count": 121,
   "metadata": {},
   "outputs": [
    {
     "name": "stdout",
     "output_type": "stream",
     "text": [
      "KNN: 0.663794 (0.039128)\n",
      "LR: 0.618286 (0.029588)\n",
      "LDA: 0.622975 (0.031790)\n",
      "KNN: 0.663794 (0.039128)\n",
      "CART: 0.665199 (0.043105)\n",
      "NB: 0.608908 (0.041068)\n",
      "SVM: 0.618949 (0.034668)\n"
     ]
    }
   ],
   "source": [
    "# On définit les modèles ML \n",
    "models = []\n",
    "\n",
    "models.append(('KNN', KNeighborsClassifier()))\n",
    "models.append(('LR', LogisticRegression(solver='liblinear', multi_class='ovr')))\n",
    "models.append(('LDA', LinearDiscriminantAnalysis()))\n",
    "models.append(('KNN', KNeighborsClassifier()))\n",
    "models.append(('CART', DecisionTreeClassifier()))\n",
    "models.append(('NB', GaussianNB()))\n",
    "models.append(('SVM', SVC(gamma='auto')))\n",
    "\n",
    "# On évalue les modèles un par un \n",
    "results = []\n",
    "names = []\n",
    "for name, model in models:\n",
    "\tkfold = StratifiedKFold(n_splits=10, random_state=1, shuffle=True)\n",
    "\tpipe = make_pipeline(column_trans, model)\n",
    "\tcv_results = cross_val_score(pipe, X_train, Y_train, cv=kfold, scoring='accuracy')\n",
    "\tresults.append(cv_results)\n",
    "\tnames.append(name)\n",
    "\tprint('%s: %f (%f)' % (name, cv_results.mean(), cv_results.std()))"
   ]
  },
  {
   "cell_type": "code",
   "execution_count": 122,
   "metadata": {},
   "outputs": [
    {
     "data": {
      "text/html": [
       "<style>#sk-container-id-1 {color: black;background-color: white;}#sk-container-id-1 pre{padding: 0;}#sk-container-id-1 div.sk-toggleable {background-color: white;}#sk-container-id-1 label.sk-toggleable__label {cursor: pointer;display: block;width: 100%;margin-bottom: 0;padding: 0.3em;box-sizing: border-box;text-align: center;}#sk-container-id-1 label.sk-toggleable__label-arrow:before {content: \"▸\";float: left;margin-right: 0.25em;color: #696969;}#sk-container-id-1 label.sk-toggleable__label-arrow:hover:before {color: black;}#sk-container-id-1 div.sk-estimator:hover label.sk-toggleable__label-arrow:before {color: black;}#sk-container-id-1 div.sk-toggleable__content {max-height: 0;max-width: 0;overflow: hidden;text-align: left;background-color: #f0f8ff;}#sk-container-id-1 div.sk-toggleable__content pre {margin: 0.2em;color: black;border-radius: 0.25em;background-color: #f0f8ff;}#sk-container-id-1 input.sk-toggleable__control:checked~div.sk-toggleable__content {max-height: 200px;max-width: 100%;overflow: auto;}#sk-container-id-1 input.sk-toggleable__control:checked~label.sk-toggleable__label-arrow:before {content: \"▾\";}#sk-container-id-1 div.sk-estimator input.sk-toggleable__control:checked~label.sk-toggleable__label {background-color: #d4ebff;}#sk-container-id-1 div.sk-label input.sk-toggleable__control:checked~label.sk-toggleable__label {background-color: #d4ebff;}#sk-container-id-1 input.sk-hidden--visually {border: 0;clip: rect(1px 1px 1px 1px);clip: rect(1px, 1px, 1px, 1px);height: 1px;margin: -1px;overflow: hidden;padding: 0;position: absolute;width: 1px;}#sk-container-id-1 div.sk-estimator {font-family: monospace;background-color: #f0f8ff;border: 1px dotted black;border-radius: 0.25em;box-sizing: border-box;margin-bottom: 0.5em;}#sk-container-id-1 div.sk-estimator:hover {background-color: #d4ebff;}#sk-container-id-1 div.sk-parallel-item::after {content: \"\";width: 100%;border-bottom: 1px solid gray;flex-grow: 1;}#sk-container-id-1 div.sk-label:hover label.sk-toggleable__label {background-color: #d4ebff;}#sk-container-id-1 div.sk-serial::before {content: \"\";position: absolute;border-left: 1px solid gray;box-sizing: border-box;top: 0;bottom: 0;left: 50%;z-index: 0;}#sk-container-id-1 div.sk-serial {display: flex;flex-direction: column;align-items: center;background-color: white;padding-right: 0.2em;padding-left: 0.2em;position: relative;}#sk-container-id-1 div.sk-item {position: relative;z-index: 1;}#sk-container-id-1 div.sk-parallel {display: flex;align-items: stretch;justify-content: center;background-color: white;position: relative;}#sk-container-id-1 div.sk-item::before, #sk-container-id-1 div.sk-parallel-item::before {content: \"\";position: absolute;border-left: 1px solid gray;box-sizing: border-box;top: 0;bottom: 0;left: 50%;z-index: -1;}#sk-container-id-1 div.sk-parallel-item {display: flex;flex-direction: column;z-index: 1;position: relative;background-color: white;}#sk-container-id-1 div.sk-parallel-item:first-child::after {align-self: flex-end;width: 50%;}#sk-container-id-1 div.sk-parallel-item:last-child::after {align-self: flex-start;width: 50%;}#sk-container-id-1 div.sk-parallel-item:only-child::after {width: 0;}#sk-container-id-1 div.sk-dashed-wrapped {border: 1px dashed gray;margin: 0 0.4em 0.5em 0.4em;box-sizing: border-box;padding-bottom: 0.4em;background-color: white;}#sk-container-id-1 div.sk-label label {font-family: monospace;font-weight: bold;display: inline-block;line-height: 1.2em;}#sk-container-id-1 div.sk-label-container {text-align: center;}#sk-container-id-1 div.sk-container {/* jupyter's `normalize.less` sets `[hidden] { display: none; }` but bootstrap.min.css set `[hidden] { display: none !important; }` so we also need the `!important` here to be able to override the default hidden behavior on the sphinx rendered scikit-learn.org. See: https://github.com/scikit-learn/scikit-learn/issues/21755 */display: inline-block !important;position: relative;}#sk-container-id-1 div.sk-text-repr-fallback {display: none;}</style><div id=\"sk-container-id-1\" class=\"sk-top-container\"><div class=\"sk-text-repr-fallback\"><pre>Pipeline(steps=[(&#x27;columntransformer&#x27;,\n",
       "                 ColumnTransformer(remainder=&#x27;passthrough&#x27;,\n",
       "                                   transformers=[(&#x27;onehotencoder&#x27;,\n",
       "                                                  OneHotEncoder(),\n",
       "                                                  [&#x27;Day&#x27;, &#x27;Electric&#x27;])])),\n",
       "                (&#x27;svc&#x27;, SVC(gamma=&#x27;auto&#x27;))])</pre><b>In a Jupyter environment, please rerun this cell to show the HTML representation or trust the notebook. <br />On GitHub, the HTML representation is unable to render, please try loading this page with nbviewer.org.</b></div><div class=\"sk-container\" hidden><div class=\"sk-item sk-dashed-wrapped\"><div class=\"sk-label-container\"><div class=\"sk-label sk-toggleable\"><input class=\"sk-toggleable__control sk-hidden--visually\" id=\"sk-estimator-id-1\" type=\"checkbox\" ><label for=\"sk-estimator-id-1\" class=\"sk-toggleable__label sk-toggleable__label-arrow\">Pipeline</label><div class=\"sk-toggleable__content\"><pre>Pipeline(steps=[(&#x27;columntransformer&#x27;,\n",
       "                 ColumnTransformer(remainder=&#x27;passthrough&#x27;,\n",
       "                                   transformers=[(&#x27;onehotencoder&#x27;,\n",
       "                                                  OneHotEncoder(),\n",
       "                                                  [&#x27;Day&#x27;, &#x27;Electric&#x27;])])),\n",
       "                (&#x27;svc&#x27;, SVC(gamma=&#x27;auto&#x27;))])</pre></div></div></div><div class=\"sk-serial\"><div class=\"sk-item sk-dashed-wrapped\"><div class=\"sk-label-container\"><div class=\"sk-label sk-toggleable\"><input class=\"sk-toggleable__control sk-hidden--visually\" id=\"sk-estimator-id-2\" type=\"checkbox\" ><label for=\"sk-estimator-id-2\" class=\"sk-toggleable__label sk-toggleable__label-arrow\">columntransformer: ColumnTransformer</label><div class=\"sk-toggleable__content\"><pre>ColumnTransformer(remainder=&#x27;passthrough&#x27;,\n",
       "                  transformers=[(&#x27;onehotencoder&#x27;, OneHotEncoder(),\n",
       "                                 [&#x27;Day&#x27;, &#x27;Electric&#x27;])])</pre></div></div></div><div class=\"sk-parallel\"><div class=\"sk-parallel-item\"><div class=\"sk-item\"><div class=\"sk-label-container\"><div class=\"sk-label sk-toggleable\"><input class=\"sk-toggleable__control sk-hidden--visually\" id=\"sk-estimator-id-3\" type=\"checkbox\" ><label for=\"sk-estimator-id-3\" class=\"sk-toggleable__label sk-toggleable__label-arrow\">onehotencoder</label><div class=\"sk-toggleable__content\"><pre>[&#x27;Day&#x27;, &#x27;Electric&#x27;]</pre></div></div></div><div class=\"sk-serial\"><div class=\"sk-item\"><div class=\"sk-estimator sk-toggleable\"><input class=\"sk-toggleable__control sk-hidden--visually\" id=\"sk-estimator-id-4\" type=\"checkbox\" ><label for=\"sk-estimator-id-4\" class=\"sk-toggleable__label sk-toggleable__label-arrow\">OneHotEncoder</label><div class=\"sk-toggleable__content\"><pre>OneHotEncoder()</pre></div></div></div></div></div></div><div class=\"sk-parallel-item\"><div class=\"sk-item\"><div class=\"sk-label-container\"><div class=\"sk-label sk-toggleable\"><input class=\"sk-toggleable__control sk-hidden--visually\" id=\"sk-estimator-id-5\" type=\"checkbox\" ><label for=\"sk-estimator-id-5\" class=\"sk-toggleable__label sk-toggleable__label-arrow\">remainder</label><div class=\"sk-toggleable__content\"><pre>[&#x27;scaled_avg_speed&#x27;, &#x27;scaled_distance&#x27;, &#x27;scaled_hours&#x27;]</pre></div></div></div><div class=\"sk-serial\"><div class=\"sk-item\"><div class=\"sk-estimator sk-toggleable\"><input class=\"sk-toggleable__control sk-hidden--visually\" id=\"sk-estimator-id-6\" type=\"checkbox\" ><label for=\"sk-estimator-id-6\" class=\"sk-toggleable__label sk-toggleable__label-arrow\">passthrough</label><div class=\"sk-toggleable__content\"><pre>passthrough</pre></div></div></div></div></div></div></div></div><div class=\"sk-item\"><div class=\"sk-estimator sk-toggleable\"><input class=\"sk-toggleable__control sk-hidden--visually\" id=\"sk-estimator-id-7\" type=\"checkbox\" ><label for=\"sk-estimator-id-7\" class=\"sk-toggleable__label sk-toggleable__label-arrow\">SVC</label><div class=\"sk-toggleable__content\"><pre>SVC(gamma=&#x27;auto&#x27;)</pre></div></div></div></div></div></div></div>"
      ],
      "text/plain": [
       "Pipeline(steps=[('columntransformer',\n",
       "                 ColumnTransformer(remainder='passthrough',\n",
       "                                   transformers=[('onehotencoder',\n",
       "                                                  OneHotEncoder(),\n",
       "                                                  ['Day', 'Electric'])])),\n",
       "                ('svc', SVC(gamma='auto'))])"
      ]
     },
     "execution_count": 122,
     "metadata": {},
     "output_type": "execute_result"
    }
   ],
   "source": [
    "pipe.fit(X,y)"
   ]
  },
  {
   "cell_type": "code",
   "execution_count": 123,
   "metadata": {},
   "outputs": [
    {
     "data": {
      "text/html": [
       "<div>\n",
       "<style scoped>\n",
       "    .dataframe tbody tr th:only-of-type {\n",
       "        vertical-align: middle;\n",
       "    }\n",
       "\n",
       "    .dataframe tbody tr th {\n",
       "        vertical-align: top;\n",
       "    }\n",
       "\n",
       "    .dataframe thead th {\n",
       "        text-align: right;\n",
       "    }\n",
       "</style>\n",
       "<table border=\"1\" class=\"dataframe\">\n",
       "  <thead>\n",
       "    <tr style=\"text-align: right;\">\n",
       "      <th></th>\n",
       "      <th>scaled_avg_speed</th>\n",
       "      <th>scaled_distance</th>\n",
       "      <th>Day</th>\n",
       "      <th>Electric</th>\n",
       "      <th>scaled_hours</th>\n",
       "    </tr>\n",
       "  </thead>\n",
       "  <tbody>\n",
       "    <tr>\n",
       "      <th>622</th>\n",
       "      <td>0.491429</td>\n",
       "      <td>0.883084</td>\n",
       "      <td>Sunday</td>\n",
       "      <td>yes</td>\n",
       "      <td>-0.428571</td>\n",
       "    </tr>\n",
       "    <tr>\n",
       "      <th>1276</th>\n",
       "      <td>0.320000</td>\n",
       "      <td>1.112680</td>\n",
       "      <td>Tuesday</td>\n",
       "      <td>no</td>\n",
       "      <td>0.714286</td>\n",
       "    </tr>\n",
       "  </tbody>\n",
       "</table>\n",
       "</div>"
      ],
      "text/plain": [
       "      scaled_avg_speed  scaled_distance      Day Electric  scaled_hours\n",
       "622           0.491429         0.883084   Sunday      yes     -0.428571\n",
       "1276          0.320000         1.112680  Tuesday       no      0.714286"
      ]
     },
     "execution_count": 123,
     "metadata": {},
     "output_type": "execute_result"
    }
   ],
   "source": [
    "# On prend un sample de données test pour prédire le cycliste\n",
    "X_new = X_test.sample(2, random_state=99)\n",
    "\n",
    "X_new"
   ]
  },
  {
   "cell_type": "code",
   "execution_count": 125,
   "metadata": {},
   "outputs": [
    {
     "data": {
      "text/plain": [
       "array(['Cyclist B', 'Cyclist B'], dtype=object)"
      ]
     },
     "execution_count": 125,
     "metadata": {},
     "output_type": "execute_result"
    }
   ],
   "source": [
    "# Prédiction\n",
    "pipe.predict(X_new)"
   ]
  },
  {
   "cell_type": "code",
   "execution_count": 28,
   "metadata": {},
   "outputs": [],
   "source": [
    "# Ce qui peut être envisageable pour la suite est de revisiter les variables/features et supprimer quelques outliers pour optimiser nos algorithmes. "
   ]
  }
 ],
 "metadata": {
  "kernelspec": {
   "display_name": "Python 3.10.5 64-bit",
   "language": "python",
   "name": "python3"
  },
  "language_info": {
   "codemirror_mode": {
    "name": "ipython",
    "version": 3
   },
   "file_extension": ".py",
   "mimetype": "text/x-python",
   "name": "python",
   "nbconvert_exporter": "python",
   "pygments_lexer": "ipython3",
   "version": "3.10.5"
  },
  "orig_nbformat": 4,
  "vscode": {
   "interpreter": {
    "hash": "26de051ba29f2982a8de78e945f0abaf191376122a1563185a90213a26c5da77"
   }
  }
 },
 "nbformat": 4,
 "nbformat_minor": 2
}
